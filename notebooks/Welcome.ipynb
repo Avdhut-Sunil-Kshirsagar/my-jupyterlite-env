{
 "cells": [
  {
   "cell_type": "markdown",
   "metadata": {},
   "source": [
    "# Welcome to Full-Stack Data Science Lab\n",
    "\n",
    "This environment includes **200+ pre-configured libraries** for data science, AI/ML, and analytics.\n",
    "\n",
    "## Quick Test: Load Common Libraries"
   ]
  },
  {
   "cell_type": "code",
   "execution_count": null,
   "metadata": {},
   "source": [
    "# Core Data Science\n",
    "import numpy as np\n",
    "import pandas as pd\n",
    "import matplotlib.pyplot as plt\n",
    "import scipy\n",
    "\n",
    "# Machine Learning\n",
    "import sklearn\n",
    "from sklearn.datasets import load_iris\n",
    "\n",
    "# Visualization\n",
    "import seaborn as sns\n",
    "\n",
    "print(\"✅ All core libraries loaded successfully!\")\n",
    "print(f\"NumPy: {np.__version__}\")\n",
    "print(f\"Pandas: {pd.__version__}\")\n",
    "print(f\"Scikit-learn: {sklearn.__version__}\")"
   ]
  },
  {
   "cell_type": "code",
   "execution_count": null,
   "metadata": {},
   "source": [
    "# Quick visualization test\n",
    "iris = load_iris()\n",
    "df = pd.DataFrame(iris.data, columns=iris.feature_names)\n",
    "df['species'] = iris.target\n",
    "\n",
    "plt.figure(figsize=(10, 6))\n",
    "plt.scatter(df['sepal length (cm)'], df['sepal width (cm)'], c=df['species'])\n",
    "plt.xlabel('Sepal Length')\n",
    "plt.ylabel('Sepal Width')\n",
    "plt.title('Iris Dataset - Quick Test')\n",
    "plt.show()"
   ]
  },
  {
   "cell_type": "markdown",
   "metadata": {},
   "source": [
    "## Install Additional Packages\n",
    "\n",
    "If you need packages not pre-installed:"
   ]
  },
  {
   "cell_type": "code",
   "execution_count": null,
   "metadata": {},
   "source": [
    "# Install additional packages\n",
    "import micropip\n",
    "await micropip.install('your-package-name')"
   ]
  }
 ],
 "metadata": {
  "kernelspec": {
   "display_name": "Python 3 (Pyodide)",
   "language": "python",
   "name": "python3"
  },
  "language_info": {
   "name": "python",
   "version": "3.11"
  }
 },
 "nbformat": 4,
 "nbformat_minor": 4
}
